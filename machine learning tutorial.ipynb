{
 "cells": [
  {
   "cell_type": "code",
   "execution_count": 2,
   "metadata": {},
   "outputs": [
    {
     "name": "stdout",
     "output_type": "stream",
     "text": [
      "   Day  visitors_x  bounce_rate_x  visitors_y  bounce_rate_y\n",
      "0    1          10            100          10            100\n",
      "1    2          20            200          20            200\n",
      "2    3          30            300          30            300\n",
      "3    4          40            400          40            400\n",
      "4    5          50            500          50            500\n",
      "5    6          60            600          60            600\n"
     ]
    }
   ],
   "source": [
    "import pandas as pd\n",
    "import numpy as np\n",
    "XYZ={\"Day\":[1,23,4,5,6],\"visitors\":[10,20,30,40,50,60],\"bounce_rate\":[100,200,300,400,500,600]}\n",
    "df1=pd.DataFrame({\"Day\":[1,2,3,4,5,6],\"visitors\":[10,20,30,40,50,60],\"bounce_rate\":[100,200,300,400,500,600]},index=[2001,2002,2003,2004,2005,2006])\n",
    "df2=pd.DataFrame({\"Day\":[1,2,3,4,5,6],\"visitors\":[10,20,30,40,50,60],\"bounce_rate\":[100,200,300,400,500,600]},index=[2007,2008,2009,2010,2011,2012])\n",
    "merge=pd.merge(df1,df2,on=\"Day\")\n",
    "print(merge)"
   ]
  },
  {
   "cell_type": "code",
   "execution_count": null,
   "metadata": {},
   "outputs": [],
   "source": []
  },
  {
   "cell_type": "code",
   "execution_count": 3,
   "metadata": {},
   "outputs": [
    {
     "name": "stdout",
     "output_type": "stream",
     "text": [
      "      Day  visitors  bounce_rate\n",
      "2001    1        10          100\n",
      "2002    2        20          200\n",
      "2003    3        30          300\n",
      "2004    4        40          400\n",
      "2005    5        50          500\n",
      "2006    6        60          600\n",
      "2007    1        10          100\n",
      "2008    2        20          200\n",
      "2009    3        30          300\n",
      "2010    4        40          400\n",
      "2011    5        50          500\n",
      "2012    6        60          600\n"
     ]
    }
   ],
   "source": [
    "import pandas as pd\n",
    "import numpy as np\n",
    "df1=pd.DataFrame({\"Day\":[1,2,3,4,5,6],\"visitors\":[10,20,30,40,50,60],\"bounce_rate\":[100,200,300,400,500,600]},index=[2001,2002,2003,2004,2005,2006])\n",
    "df2=pd.DataFrame({\"Day\":[1,2,3,4,5,6],\"visitors\":[10,20,30,40,50,60],\"bounce_rate\":[100,200,300,400,500,600]},index=[2007,2008,2009,2010,2011,2012])\n",
    "concat=pd.concat([df1,df2])\n",
    "print(concat)"
   ]
  },
  {
   "cell_type": "code",
   "execution_count": 15,
   "metadata": {},
   "outputs": [
    {
     "data": {
      "image/png": "[encoded data removed]",
      "text/plain": [
       "<Figure size 432x288 with 1 Axes>"
      ]
     },
     "metadata": {},
     "output_type": "display_data"
    }
   ],
   "source": [
    "import matplotlib.pyplot as plt\n",
    "from matplotlib import style\n",
    "style.use(\"fivethirtyeight\")\n",
    "df=pd.DataFrame({\"Day\":[1,2,3,4,5,6],\"visitors\":[10,20,30,40,50,60],\"bounce_rate\":[100,200,300,400,500,600]},index=[2001,2002,2003,2004,2005,2006])\n",
    "df.set_index(\"Day\",inplace=True)\n",
    "df.plot()#import from pandas\n",
    "plt.show()#import from matlab"
   ]
  },
  {
   "cell_type": "code",
   "execution_count": 17,
   "metadata": {},
   "outputs": [
    {
     "name": "stdout",
     "output_type": "stream",
     "text": [
      "3.5\n",
      "4\n"
     ]
    }
   ],
   "source": [
    "from statistics import mean\n",
    "from statistics import mode\n",
    "from statistics import median\n",
    "\n",
    "print(mean([1,2,3,4,5,6]))\n",
    "print(median([2,4,8]))"
   ]
  },
  {
   "cell_type": "code",
   "execution_count": 16,
   "metadata": {},
   "outputs": [
    {
     "data": {
      "text/plain": [
       "array([ 2,  7, 12, 17, 22, 27])"
      ]
     },
     "execution_count": 16,
     "metadata": {},
     "output_type": "execute_result"
    }
   ],
   "source": [
    "np.arange(2,29,5)\n"
   ]
  },
  {
   "cell_type": "code",
   "execution_count": null,
   "metadata": {},
   "outputs": [],
   "source": []
  }
 ],
 "metadata": {
  "kernelspec": {
   "display_name": "Python 3",
   "language": "python",
   "name": "python3"
  },
  "language_info": {
   "codemirror_mode": {
    "name": "ipython",
    "version": 3
   },
   "file_extension": ".py",
   "mimetype": "text/x-python",
   "name": "python",
   "nbconvert_exporter": "python",
   "pygments_lexer": "ipython3",
   "version": "3.6.5"
  }
 },
 "nbformat": 4,
 "nbformat_minor": 2
}
